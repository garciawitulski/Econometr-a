{
  "nbformat": 4,
  "nbformat_minor": 0,
  "metadata": {
    "colab": {
      "provenance": [],
      "authorship_tag": "ABX9TyPvS8hT0DaJLcWBLzGYLVfI",
      "include_colab_link": true
    },
    "kernelspec": {
      "name": "python3",
      "display_name": "Python 3"
    },
    "language_info": {
      "name": "python"
    }
  },
  "cells": [
    {
      "cell_type": "markdown",
      "metadata": {
        "id": "view-in-github",
        "colab_type": "text"
      },
      "source": [
        "<a href=\"https://colab.research.google.com/github/garciawitulski/Econometria/blob/main/Untitled0.ipynb\" target=\"_parent\"><img src=\"https://colab.research.google.com/assets/colab-badge.svg\" alt=\"Open In Colab\"/></a>"
      ]
    },
    {
      "cell_type": "code",
      "execution_count": 7,
      "metadata": {
        "colab": {
          "base_uri": "https://localhost:8080/",
          "height": 477
        },
        "id": "9vY2bQzgabTy",
        "outputId": "6fefe4d1-9e45-49ea-abc1-2b0aee658705"
      },
      "outputs": [
        {
          "output_type": "error",
          "ename": "ModuleNotFoundError",
          "evalue": "ignored",
          "traceback": [
            "\u001b[0;31m---------------------------------------------------------------------------\u001b[0m",
            "\u001b[0;31mModuleNotFoundError\u001b[0m                       Traceback (most recent call last)",
            "\u001b[0;32m<ipython-input-7-089aca2c66a1>\u001b[0m in \u001b[0;36m<module>\u001b[0;34m\u001b[0m\n\u001b[1;32m    106\u001b[0m \u001b[0;32mif\u001b[0m \u001b[0m__name__\u001b[0m \u001b[0;34m==\u001b[0m \u001b[0;34m\"__main__\"\u001b[0m\u001b[0;34m:\u001b[0m\u001b[0;34m\u001b[0m\u001b[0;34m\u001b[0m\u001b[0m\n\u001b[1;32m    107\u001b[0m     \u001b[0mhdffile\u001b[0m \u001b[0;34m=\u001b[0m \u001b[0;34m'MOD09GA.A2007268.h10v08.006.2015166222724.hdf'\u001b[0m\u001b[0;34m\u001b[0m\u001b[0;34m\u001b[0m\u001b[0m\n\u001b[0;32m--> 108\u001b[0;31m     \u001b[0mrun\u001b[0m\u001b[0;34m(\u001b[0m\u001b[0mhdffile\u001b[0m\u001b[0;34m)\u001b[0m\u001b[0;34m\u001b[0m\u001b[0;34m\u001b[0m\u001b[0m\n\u001b[0m\u001b[1;32m    109\u001b[0m \u001b[0;34m\u001b[0m\u001b[0m\n",
            "\u001b[0;32m<ipython-input-7-089aca2c66a1>\u001b[0m in \u001b[0;36mrun\u001b[0;34m(FILE_NAME)\u001b[0m\n\u001b[1;32m     47\u001b[0m         \u001b[0;32mdel\u001b[0m \u001b[0mgdset\u001b[0m\u001b[0;34m\u001b[0m\u001b[0;34m\u001b[0m\u001b[0m\n\u001b[1;32m     48\u001b[0m     \u001b[0;32melse\u001b[0m\u001b[0;34m:\u001b[0m\u001b[0;34m\u001b[0m\u001b[0;34m\u001b[0m\u001b[0m\n\u001b[0;32m---> 49\u001b[0;31m         \u001b[0;32mfrom\u001b[0m \u001b[0mpyhdf\u001b[0m\u001b[0;34m.\u001b[0m\u001b[0mSD\u001b[0m \u001b[0;32mimport\u001b[0m \u001b[0mSD\u001b[0m\u001b[0;34m,\u001b[0m \u001b[0mSDC\u001b[0m\u001b[0;34m\u001b[0m\u001b[0;34m\u001b[0m\u001b[0m\n\u001b[0m\u001b[1;32m     50\u001b[0m         \u001b[0mhdf\u001b[0m \u001b[0;34m=\u001b[0m \u001b[0mSD\u001b[0m\u001b[0;34m(\u001b[0m\u001b[0mFILE_NAME\u001b[0m\u001b[0;34m,\u001b[0m \u001b[0mSDC\u001b[0m\u001b[0;34m.\u001b[0m\u001b[0mREAD\u001b[0m\u001b[0;34m)\u001b[0m\u001b[0;34m\u001b[0m\u001b[0;34m\u001b[0m\u001b[0m\n\u001b[1;32m     51\u001b[0m \u001b[0;34m\u001b[0m\u001b[0m\n",
            "\u001b[0;31mModuleNotFoundError\u001b[0m: No module named 'pyhdf'",
            "",
            "\u001b[0;31m---------------------------------------------------------------------------\u001b[0;32m\nNOTE: If your import is failing due to a missing package, you can\nmanually install dependencies using either !pip or !apt.\n\nTo view examples of installing some common dependencies, click the\n\"Open Examples\" button below.\n\u001b[0;31m---------------------------------------------------------------------------\u001b[0m\n"
          ],
          "errorDetails": {
            "actions": [
              {
                "action": "open_url",
                "actionText": "Open Examples",
                "url": "/notebooks/snippets/importing_libraries.ipynb"
              }
            ]
          }
        }
      ],
      "source": [
        "\n",
        "import os\n",
        "import re\n",
        "import pyproj\n",
        "import numpy as np\n",
        "import matplotlib as mpl\n",
        "import matplotlib.pyplot as plt\n",
        "from mpl_toolkits.basemap import Basemap\n",
        "\n",
        "USE_GDAL = False\n",
        "\n",
        "def run(FILE_NAME=):\n",
        "    \n",
        "    # Identify the data field.\n",
        "    DATAFIELD_NAME = 'Range_1'\n",
        "\n",
        "    if  USE_GDAL:    \n",
        "        import gdal\n",
        "        GRID_NAME = 'MODIS_Grid_1km_2D'\n",
        "        gname = 'HDF4_EOS:EOS_GRID:\"{0}\":{1}:{2}'.format(FILE_NAME,\n",
        "                                                         GRID_NAME,\n",
        "                                                         DATAFIELD_NAME)\n",
        "        gdset = gdal.Open(gname)\n",
        "        data = gdset.ReadAsArray().astype(np.float64)\n",
        "\n",
        "\n",
        "        # Construct the grid.\n",
        "        x0, xinc, _, y0, _, yinc = gdset.GetGeoTransform()\n",
        "        nx, ny = (gdset.RasterXSize, gdset.RasterYSize)\n",
        "        x = np.linspace(x0, x0 + xinc*nx, nx)\n",
        "        y = np.linspace(y0, y0 + yinc*ny, ny)\n",
        "        xv, yv = np.meshgrid(x, y)\n",
        "\n",
        "        # In basemap, the sinusoidal projection is global, so we won't use it.\n",
        "        # Instead we'll convert the grid back to lat/lons.\n",
        "        sinu = pyproj.Proj(\"+proj=sinu +R=6371007.181 +nadgrids=@null +wktext\")\n",
        "        wgs84 = pyproj.Proj(\"+init=EPSG:4326\") \n",
        "        lon, lat= pyproj.transform(sinu, wgs84, xv, yv)\n",
        "\n",
        "        # Read the attributes.\n",
        "        meta = gdset.GetMetadata()\n",
        "        long_name = meta['long_name']        \n",
        "        units = meta['units']\n",
        "        _FillValue = np.float(meta['_FillValue'])\n",
        "        scale_factor = np.float(meta['scale_factor'])\n",
        "        valid_range = [np.float(x) for x in meta['valid_range'].split(', ')] \n",
        "\n",
        "        del gdset\n",
        "    else:\n",
        "        from pyhdf.SD import SD, SDC\n",
        "        hdf = SD(FILE_NAME, SDC.READ)\n",
        "\n",
        "        # Read dataset.\n",
        "        data2D = hdf.select(DATAFIELD_NAME)\n",
        "        data = data2D[:,:].astype(np.double)\n",
        "\n",
        "        # Read geolocation dataset from HDF-EOS2 dumper output.\n",
        "        # Use the following command to generate latitude values in ASCII.\n",
        "        # $eos2dump -c1 MOD09GA.A2007268.h10v08.006.2015166222724.hdf MODIS_Grid_1km_2D  > lat_MOD09GA.A2007268.h10v08.006.2015166222724.output\n",
        "        GEO_FILE_NAME = 'lat_MOD09GA.A2007268.h10v08.006.2015166222724.output'\n",
        "        lat = np.genfromtxt(GEO_FILE_NAME, delimiter=',', usecols=[0])\n",
        "        lat = lat.reshape(data.shape)\n",
        "        \n",
        "        # Use the following command to generate longitude values in ASCII.\n",
        "        # $eos2dump -c2 MOD09GA.A2007268.h10v08.006.2015166222724.hdf MODIS_Grid_1km_2D  > lon_MOD09GA.A2007268.h10v08.006.2015166222724.output\n",
        "        GEO_FILE_NAME = 'lon_MOD09GA.A2007268.h10v08.006.2015166222724.output'\n",
        "        lon = np.genfromtxt(GEO_FILE_NAME, delimiter=',', usecols=[0])\n",
        "        lon = lon.reshape(data.shape)\n",
        "        \n",
        "        # Read attributes.\n",
        "        attrs = data2D.attributes(full=1)\n",
        "        lna=attrs[\"long_name\"]\n",
        "        long_name = lna[0]\n",
        "        vra=attrs[\"valid_range\"]\n",
        "        valid_range = vra[0]\n",
        "        fva=attrs[\"_FillValue\"]\n",
        "        _FillValue = fva[0]\n",
        "        sfa=attrs[\"scale_factor\"]\n",
        "        scale_factor = sfa[0]        \n",
        "        ua=attrs[\"units\"]\n",
        "        units = ua[0]\n",
        "        \n",
        "    invalid = np.logical_or(data > valid_range[1],\n",
        "                            data < valid_range[0])\n",
        "    invalid = np.logical_or(invalid, data == _FillValue)\n",
        "    data[invalid] = np.nan\n",
        "    data = data / scale_factor \n",
        "    data = np.ma.masked_array(data, np.isnan(data))\n",
        "\n",
        "    m = Basemap(projection='cyl', resolution='l',\n",
        "                llcrnrlat=np.min(lat), urcrnrlat = np.max(lat),\n",
        "                llcrnrlon=np.min(lon), urcrnrlon = np.max(lon))                \n",
        "    m.drawcoastlines(linewidth=0.5)\n",
        "    m.drawparallels(np.arange(0, 15, 5), labels=[1, 0, 0, 0])\n",
        "    m.drawmeridians(np.arange(-80, -65, 5), labels=[0, 0, 0, 1])\n",
        "    m.pcolormesh(lon, lat, data, latlon=True)\n",
        "    cb = m.colorbar()\n",
        "    cb.set_label(units)\n",
        "\n",
        "    basename = os.path.basename(FILE_NAME)\n",
        "    plt.title('{0}\\n{1}'.format(basename, long_name))\n",
        "    fig = plt.gcf()\n",
        "    pngfile = \"{0}.py.png\".format(basename)\n",
        "    fig.savefig(pngfile)\n",
        "\n",
        "\n",
        "if __name__ == \"__main__\":\n",
        "    hdffile = 'MOD09GA.A2007268.h10v08.006.2015166222724.hdf'\n",
        "    run(hdffile)\n",
        "    \n"
      ]
    },
    {
      "cell_type": "code",
      "source": [
        "from pyhdf.SD import SD, SDC\n",
        "import os"
      ],
      "metadata": {
        "id": "kVDHve_TalOJ"
      },
      "execution_count": null,
      "outputs": []
    },
    {
      "cell_type": "code",
      "source": [
        "USE_NETCDF4 = False\n",
        "FILE_NAME = 'C:/Users/admin/Documents/Papers/MOD11C1.A2015002.061.2021347102713.hdf'\n",
        "GEO_FILE_NAME = 'MOD03.A2015013.1240.006.2015013194359.hdf'\n",
        "DATAFIELD_NAME = 'EV_Band26'\n",
        "\n",
        "hdf = SD(FILE_NAME, SDC.READ)"
      ],
      "metadata": {
        "colab": {
          "base_uri": "https://localhost:8080/",
          "height": 321
        },
        "id": "dYV72LYvamVb",
        "outputId": "5c4f95c2-a63d-409d-b2ec-1c4ea596d461"
      },
      "execution_count": null,
      "outputs": [
        {
          "output_type": "error",
          "ename": "HDF4Error",
          "evalue": "ignored",
          "traceback": [
            "\u001b[0;31m---------------------------------------------------------------------------\u001b[0m",
            "\u001b[0;31mHDF4Error\u001b[0m                                 Traceback (most recent call last)",
            "\u001b[0;32m<ipython-input-4-358391e554ad>\u001b[0m in \u001b[0;36m<module>\u001b[0;34m\u001b[0m\n\u001b[1;32m      4\u001b[0m \u001b[0mDATAFIELD_NAME\u001b[0m \u001b[0;34m=\u001b[0m \u001b[0;34m'EV_Band26'\u001b[0m\u001b[0;34m\u001b[0m\u001b[0;34m\u001b[0m\u001b[0m\n\u001b[1;32m      5\u001b[0m \u001b[0;34m\u001b[0m\u001b[0m\n\u001b[0;32m----> 6\u001b[0;31m \u001b[0mhdf\u001b[0m \u001b[0;34m=\u001b[0m \u001b[0mSD\u001b[0m\u001b[0;34m(\u001b[0m\u001b[0mFILE_NAME\u001b[0m\u001b[0;34m,\u001b[0m \u001b[0mSDC\u001b[0m\u001b[0;34m.\u001b[0m\u001b[0mREAD\u001b[0m\u001b[0;34m)\u001b[0m\u001b[0;34m\u001b[0m\u001b[0;34m\u001b[0m\u001b[0m\n\u001b[0m",
            "\u001b[0;32m/usr/local/lib/python3.7/dist-packages/pyhdf/SD.py\u001b[0m in \u001b[0;36m__init__\u001b[0;34m(self, path, mode)\u001b[0m\n\u001b[1;32m   1422\u001b[0m                 \u001b[0mmode\u001b[0m \u001b[0;34m=\u001b[0m \u001b[0mSDC\u001b[0m\u001b[0;34m.\u001b[0m\u001b[0mREAD\u001b[0m\u001b[0;34m\u001b[0m\u001b[0;34m\u001b[0m\u001b[0m\n\u001b[1;32m   1423\u001b[0m             \u001b[0;32melse\u001b[0m\u001b[0;34m:\u001b[0m\u001b[0;34m\u001b[0m\u001b[0;34m\u001b[0m\u001b[0m\n\u001b[0;32m-> 1424\u001b[0;31m                 \u001b[0;32mraise\u001b[0m \u001b[0mHDF4Error\u001b[0m\u001b[0;34m(\u001b[0m\u001b[0;34m\"SD: no such file\"\u001b[0m\u001b[0;34m)\u001b[0m\u001b[0;34m\u001b[0m\u001b[0;34m\u001b[0m\u001b[0m\n\u001b[0m\u001b[1;32m   1425\u001b[0m         \u001b[0;32melse\u001b[0m\u001b[0;34m:\u001b[0m\u001b[0;34m\u001b[0m\u001b[0;34m\u001b[0m\u001b[0m\n\u001b[1;32m   1426\u001b[0m             \u001b[0;32mraise\u001b[0m \u001b[0mHDF4Error\u001b[0m\u001b[0;34m(\u001b[0m\u001b[0;34m\"SD: bad mode, READ or WRITE must be set\"\u001b[0m\u001b[0;34m)\u001b[0m\u001b[0;34m\u001b[0m\u001b[0;34m\u001b[0m\u001b[0m\n",
            "\u001b[0;31mHDF4Error\u001b[0m: SD: no such file"
          ]
        }
      ]
    }
  ]
}