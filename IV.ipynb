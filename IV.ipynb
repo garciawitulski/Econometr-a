{
  "nbformat": 4,
  "nbformat_minor": 0,
  "metadata": {
    "colab": {
      "provenance": [],
      "collapsed_sections": [],
      "authorship_tag": "ABX9TyMGSZYQb9yt7KR9LcEGLld0",
      "include_colab_link": true
    },
    "kernelspec": {
      "name": "python3",
      "display_name": "Python 3"
    },
    "language_info": {
      "name": "python"
    }
  },
  "cells": [
    {
      "cell_type": "markdown",
      "metadata": {
        "id": "view-in-github",
        "colab_type": "text"
      },
      "source": [
        "<a href=\"https://colab.research.google.com/github/garciawitulski/Econometria/blob/main/IV.ipynb\" target=\"_parent\"><img src=\"https://colab.research.google.com/assets/colab-badge.svg\" alt=\"Open In Colab\"/></a>"
      ]
    },
    {
      "cell_type": "code",
      "execution_count": null,
      "metadata": {
        "id": "Us3YOtYsDqq2"
      },
      "outputs": [],
      "source": [
        "import numpy as np\n",
        "import pandas as pd\n",
        "import statsmodels.api as sm\n",
        "\n",
        "# install the package\n",
        "!pip install econtools\n",
        "import econtools.metrics as mt\n",
        "from sklearn import datasets, linear_model, metrics\n",
        "\n",
        "!pip install linearmodels\n",
        "from linearmodels.iv import IV2SLS\n",
        "\n"
      ]
    },
    {
      "cell_type": "code",
      "source": [
        "url = 'https://raw.githubusercontent.com/garciawitulski/Econometria/main/CigarettesSW'\n",
        "\n",
        "df = pd.read_csv(url)"
      ],
      "metadata": {
        "id": "a8rlGaYME6FG"
      },
      "execution_count": 2,
      "outputs": []
    },
    {
      "cell_type": "code",
      "source": [
        "df.head(10)"
      ],
      "metadata": {
        "id": "QyDXxW3SJI9A"
      },
      "execution_count": null,
      "outputs": []
    },
    {
      "cell_type": "code",
      "source": [
        "df['rprice'] = df['price'] / df['cpi']\n",
        "df['lnpacks'] = np.log(df['packs'])\n",
        "df['lnrprice'] = np.log(df['rprice'])\n",
        "df['salestax'] = (df['taxs'] - df['tax']) / df['cpi']\n",
        "df['rincome'] = df['income'] / df['population'] / df['cpi']\n",
        "df['lnrincome'] = np.log(df['rincome'])\n",
        "df['cigtax'] = df['tax'] / df['cpi']"
      ],
      "metadata": {
        "id": "32KdKzjQJPtd"
      },
      "execution_count": 4,
      "outputs": []
    },
    {
      "cell_type": "code",
      "source": [
        "c1995 = df[(df.year == 1995)]\n",
        "\n",
        "c1995.head(10)"
      ],
      "metadata": {
        "id": "rkvYQZSm11tB"
      },
      "execution_count": null,
      "outputs": []
    },
    {
      "cell_type": "code",
      "source": [
        "# Comenzamos estimando la función de demanda por MCO sin tener en cuenta la endogeneidad de P\n",
        "\n",
        "cig_s0 = mt.reg(c1995, 'lnpacks', ['lnrprice'], addcons=True,vce_type=\"robust\")\n",
        "\n",
        "print(cig_s0)\n"
      ],
      "metadata": {
        "id": "gtweNx70Nimj"
      },
      "execution_count": null,
      "outputs": []
    },
    {
      "cell_type": "code",
      "source": [
        "# Realizamos la primera etapa de la regresión\n",
        "\n",
        "cig_s1 = mt.reg(c1995, 'lnrprice', ['salestax'], addcons=True,vce_type=\"robust\")\n",
        "\n",
        "print(cig_s1)\n",
        "\n",
        "# Almacenamos los valores predichos\n",
        "\n",
        "c1995['lcigp_pred'] = cig_s1.yhat\n",
        "c1995.head(10)"
      ],
      "metadata": {
        "colab": {
          "base_uri": "https://localhost:8080/",
          "height": 682
        },
        "id": "M1cVto1uy82d",
        "outputId": "a1204770-dceb-47e1-f909-9b1e700f799a"
      },
      "execution_count": 82,
      "outputs": [
        {
          "output_type": "stream",
          "name": "stdout",
          "text": [
            "=======================================================\n",
            "Dependent variable:\tlnrprice\n",
            "N:\t\t\t48\n",
            "R-squared:\t\t0.4710\n",
            "Estimation method:\tOLS\n",
            "VCE method:\t\tRobust\n",
            "=======================================================\n",
            "         coeff    se       t   p>t CI_low CI_high\n",
            "salestax 0.031 0.005   6.355 0.000  0.021   0.040\n",
            "_cons    4.617 0.029 159.644 0.000  4.558   4.675\n",
            "=======================================================\n",
            "\n"
          ]
        },
        {
          "output_type": "execute_result",
          "data": {
            "text/plain": [
              "    const  Unnamed: 0 state  year    cpi  population       packs     income  \\\n",
              "48    1.0          49    AL  1995  1.524   4262731.0  101.085434   83903280   \n",
              "49    1.0          50    AR  1995  1.524   2480121.0  111.042969   45995496   \n",
              "50    1.0          51    AZ  1995  1.524   4306908.0   71.954170   88870496   \n",
              "51    1.0          52    CA  1995  1.524  31493524.0   56.859306  771470144   \n",
              "52    1.0          53    CO  1995  1.524   3738061.0   82.582924   92946544   \n",
              "53    1.0          54    CT  1995  1.524   3265293.0   79.472191  104315120   \n",
              "54    1.0          55    DE  1995  1.524    718265.0  124.466599   18237436   \n",
              "55    1.0          56    FL  1995  1.524  14185403.0   93.074554  333525344   \n",
              "56    1.0          57    GA  1995  1.524   7188538.0   97.474625  159800448   \n",
              "57    1.0          58    IA  1995  1.524   2840860.0   92.401596   60170928   \n",
              "\n",
              "          tax       price  ...      rprice   lnpacks  lnrprice  salestax  \\\n",
              "48  40.500004  158.371338  ...  103.918206  4.615966  4.643604  0.921697   \n",
              "49  55.500000  175.542511  ...  115.185380  4.709917  4.746543  5.485019   \n",
              "50  65.333328  198.607498  ...  130.319887  4.276029  4.869992  6.205707   \n",
              "51  61.000000  210.504669  ...  138.126430  4.040580  4.928169  9.036307   \n",
              "52  44.000000  167.350006  ...  109.809720  4.413803  4.698749  0.000000   \n",
              "53  74.000000  218.280502  ...  143.228683  4.375407  4.964443  8.107283   \n",
              "54  48.000000  165.600006  ...  108.661426  4.824037  4.688237  0.000000   \n",
              "55  57.900002  187.717178  ...  123.174007  4.533401  4.813598  6.972116   \n",
              "56  36.000000  156.573074  ...  102.738243  4.579592  4.632184  0.939249   \n",
              "57  60.000000  190.889999  ...  125.255911  4.526144  4.830359  5.964565   \n",
              "\n",
              "      rincome  lnrincome     cigtax  lcigp_pred  resid_mod_rel     resid  \n",
              "48  12.915347   2.558416  26.574807    4.644869       0.004822 -0.064530  \n",
              "49  12.169073   2.498898  36.417325    4.785095      -0.027529  0.177607  \n",
              "50  13.539638   2.605622  42.869640    4.807241       0.016169 -0.128510  \n",
              "51  16.073591   2.777178  40.026249    4.894222       0.051525 -0.337747  \n",
              "52  16.315557   2.792119  28.871392    4.616546       0.023207 -0.261781  \n",
              "53  20.962359   3.042728  48.556433    4.865674      -0.010628 -0.031045  \n",
              "54  16.660734   2.813055  31.496064    4.616546      -0.014119  0.129155  \n",
              "55  15.427737   2.736167  37.992129    4.830791      -0.017102  0.020217  \n",
              "56  14.586546   2.680100  23.622048    4.645408       0.007641 -0.149612  \n",
              "57  13.897988   2.631744  39.370081    4.799831       0.009059  0.063652  \n",
              "\n",
              "[10 rows x 21 columns]"
            ],
            "text/html": [
              "\n",
              "  <div id=\"df-4f7526bf-1123-4cad-9b36-ccca81c762c7\">\n",
              "    <div class=\"colab-df-container\">\n",
              "      <div>\n",
              "<style scoped>\n",
              "    .dataframe tbody tr th:only-of-type {\n",
              "        vertical-align: middle;\n",
              "    }\n",
              "\n",
              "    .dataframe tbody tr th {\n",
              "        vertical-align: top;\n",
              "    }\n",
              "\n",
              "    .dataframe thead th {\n",
              "        text-align: right;\n",
              "    }\n",
              "</style>\n",
              "<table border=\"1\" class=\"dataframe\">\n",
              "  <thead>\n",
              "    <tr style=\"text-align: right;\">\n",
              "      <th></th>\n",
              "      <th>const</th>\n",
              "      <th>Unnamed: 0</th>\n",
              "      <th>state</th>\n",
              "      <th>year</th>\n",
              "      <th>cpi</th>\n",
              "      <th>population</th>\n",
              "      <th>packs</th>\n",
              "      <th>income</th>\n",
              "      <th>tax</th>\n",
              "      <th>price</th>\n",
              "      <th>...</th>\n",
              "      <th>rprice</th>\n",
              "      <th>lnpacks</th>\n",
              "      <th>lnrprice</th>\n",
              "      <th>salestax</th>\n",
              "      <th>rincome</th>\n",
              "      <th>lnrincome</th>\n",
              "      <th>cigtax</th>\n",
              "      <th>lcigp_pred</th>\n",
              "      <th>resid_mod_rel</th>\n",
              "      <th>resid</th>\n",
              "    </tr>\n",
              "  </thead>\n",
              "  <tbody>\n",
              "    <tr>\n",
              "      <th>48</th>\n",
              "      <td>1.0</td>\n",
              "      <td>49</td>\n",
              "      <td>AL</td>\n",
              "      <td>1995</td>\n",
              "      <td>1.524</td>\n",
              "      <td>4262731.0</td>\n",
              "      <td>101.085434</td>\n",
              "      <td>83903280</td>\n",
              "      <td>40.500004</td>\n",
              "      <td>158.371338</td>\n",
              "      <td>...</td>\n",
              "      <td>103.918206</td>\n",
              "      <td>4.615966</td>\n",
              "      <td>4.643604</td>\n",
              "      <td>0.921697</td>\n",
              "      <td>12.915347</td>\n",
              "      <td>2.558416</td>\n",
              "      <td>26.574807</td>\n",
              "      <td>4.644869</td>\n",
              "      <td>0.004822</td>\n",
              "      <td>-0.064530</td>\n",
              "    </tr>\n",
              "    <tr>\n",
              "      <th>49</th>\n",
              "      <td>1.0</td>\n",
              "      <td>50</td>\n",
              "      <td>AR</td>\n",
              "      <td>1995</td>\n",
              "      <td>1.524</td>\n",
              "      <td>2480121.0</td>\n",
              "      <td>111.042969</td>\n",
              "      <td>45995496</td>\n",
              "      <td>55.500000</td>\n",
              "      <td>175.542511</td>\n",
              "      <td>...</td>\n",
              "      <td>115.185380</td>\n",
              "      <td>4.709917</td>\n",
              "      <td>4.746543</td>\n",
              "      <td>5.485019</td>\n",
              "      <td>12.169073</td>\n",
              "      <td>2.498898</td>\n",
              "      <td>36.417325</td>\n",
              "      <td>4.785095</td>\n",
              "      <td>-0.027529</td>\n",
              "      <td>0.177607</td>\n",
              "    </tr>\n",
              "    <tr>\n",
              "      <th>50</th>\n",
              "      <td>1.0</td>\n",
              "      <td>51</td>\n",
              "      <td>AZ</td>\n",
              "      <td>1995</td>\n",
              "      <td>1.524</td>\n",
              "      <td>4306908.0</td>\n",
              "      <td>71.954170</td>\n",
              "      <td>88870496</td>\n",
              "      <td>65.333328</td>\n",
              "      <td>198.607498</td>\n",
              "      <td>...</td>\n",
              "      <td>130.319887</td>\n",
              "      <td>4.276029</td>\n",
              "      <td>4.869992</td>\n",
              "      <td>6.205707</td>\n",
              "      <td>13.539638</td>\n",
              "      <td>2.605622</td>\n",
              "      <td>42.869640</td>\n",
              "      <td>4.807241</td>\n",
              "      <td>0.016169</td>\n",
              "      <td>-0.128510</td>\n",
              "    </tr>\n",
              "    <tr>\n",
              "      <th>51</th>\n",
              "      <td>1.0</td>\n",
              "      <td>52</td>\n",
              "      <td>CA</td>\n",
              "      <td>1995</td>\n",
              "      <td>1.524</td>\n",
              "      <td>31493524.0</td>\n",
              "      <td>56.859306</td>\n",
              "      <td>771470144</td>\n",
              "      <td>61.000000</td>\n",
              "      <td>210.504669</td>\n",
              "      <td>...</td>\n",
              "      <td>138.126430</td>\n",
              "      <td>4.040580</td>\n",
              "      <td>4.928169</td>\n",
              "      <td>9.036307</td>\n",
              "      <td>16.073591</td>\n",
              "      <td>2.777178</td>\n",
              "      <td>40.026249</td>\n",
              "      <td>4.894222</td>\n",
              "      <td>0.051525</td>\n",
              "      <td>-0.337747</td>\n",
              "    </tr>\n",
              "    <tr>\n",
              "      <th>52</th>\n",
              "      <td>1.0</td>\n",
              "      <td>53</td>\n",
              "      <td>CO</td>\n",
              "      <td>1995</td>\n",
              "      <td>1.524</td>\n",
              "      <td>3738061.0</td>\n",
              "      <td>82.582924</td>\n",
              "      <td>92946544</td>\n",
              "      <td>44.000000</td>\n",
              "      <td>167.350006</td>\n",
              "      <td>...</td>\n",
              "      <td>109.809720</td>\n",
              "      <td>4.413803</td>\n",
              "      <td>4.698749</td>\n",
              "      <td>0.000000</td>\n",
              "      <td>16.315557</td>\n",
              "      <td>2.792119</td>\n",
              "      <td>28.871392</td>\n",
              "      <td>4.616546</td>\n",
              "      <td>0.023207</td>\n",
              "      <td>-0.261781</td>\n",
              "    </tr>\n",
              "    <tr>\n",
              "      <th>53</th>\n",
              "      <td>1.0</td>\n",
              "      <td>54</td>\n",
              "      <td>CT</td>\n",
              "      <td>1995</td>\n",
              "      <td>1.524</td>\n",
              "      <td>3265293.0</td>\n",
              "      <td>79.472191</td>\n",
              "      <td>104315120</td>\n",
              "      <td>74.000000</td>\n",
              "      <td>218.280502</td>\n",
              "      <td>...</td>\n",
              "      <td>143.228683</td>\n",
              "      <td>4.375407</td>\n",
              "      <td>4.964443</td>\n",
              "      <td>8.107283</td>\n",
              "      <td>20.962359</td>\n",
              "      <td>3.042728</td>\n",
              "      <td>48.556433</td>\n",
              "      <td>4.865674</td>\n",
              "      <td>-0.010628</td>\n",
              "      <td>-0.031045</td>\n",
              "    </tr>\n",
              "    <tr>\n",
              "      <th>54</th>\n",
              "      <td>1.0</td>\n",
              "      <td>55</td>\n",
              "      <td>DE</td>\n",
              "      <td>1995</td>\n",
              "      <td>1.524</td>\n",
              "      <td>718265.0</td>\n",
              "      <td>124.466599</td>\n",
              "      <td>18237436</td>\n",
              "      <td>48.000000</td>\n",
              "      <td>165.600006</td>\n",
              "      <td>...</td>\n",
              "      <td>108.661426</td>\n",
              "      <td>4.824037</td>\n",
              "      <td>4.688237</td>\n",
              "      <td>0.000000</td>\n",
              "      <td>16.660734</td>\n",
              "      <td>2.813055</td>\n",
              "      <td>31.496064</td>\n",
              "      <td>4.616546</td>\n",
              "      <td>-0.014119</td>\n",
              "      <td>0.129155</td>\n",
              "    </tr>\n",
              "    <tr>\n",
              "      <th>55</th>\n",
              "      <td>1.0</td>\n",
              "      <td>56</td>\n",
              "      <td>FL</td>\n",
              "      <td>1995</td>\n",
              "      <td>1.524</td>\n",
              "      <td>14185403.0</td>\n",
              "      <td>93.074554</td>\n",
              "      <td>333525344</td>\n",
              "      <td>57.900002</td>\n",
              "      <td>187.717178</td>\n",
              "      <td>...</td>\n",
              "      <td>123.174007</td>\n",
              "      <td>4.533401</td>\n",
              "      <td>4.813598</td>\n",
              "      <td>6.972116</td>\n",
              "      <td>15.427737</td>\n",
              "      <td>2.736167</td>\n",
              "      <td>37.992129</td>\n",
              "      <td>4.830791</td>\n",
              "      <td>-0.017102</td>\n",
              "      <td>0.020217</td>\n",
              "    </tr>\n",
              "    <tr>\n",
              "      <th>56</th>\n",
              "      <td>1.0</td>\n",
              "      <td>57</td>\n",
              "      <td>GA</td>\n",
              "      <td>1995</td>\n",
              "      <td>1.524</td>\n",
              "      <td>7188538.0</td>\n",
              "      <td>97.474625</td>\n",
              "      <td>159800448</td>\n",
              "      <td>36.000000</td>\n",
              "      <td>156.573074</td>\n",
              "      <td>...</td>\n",
              "      <td>102.738243</td>\n",
              "      <td>4.579592</td>\n",
              "      <td>4.632184</td>\n",
              "      <td>0.939249</td>\n",
              "      <td>14.586546</td>\n",
              "      <td>2.680100</td>\n",
              "      <td>23.622048</td>\n",
              "      <td>4.645408</td>\n",
              "      <td>0.007641</td>\n",
              "      <td>-0.149612</td>\n",
              "    </tr>\n",
              "    <tr>\n",
              "      <th>57</th>\n",
              "      <td>1.0</td>\n",
              "      <td>58</td>\n",
              "      <td>IA</td>\n",
              "      <td>1995</td>\n",
              "      <td>1.524</td>\n",
              "      <td>2840860.0</td>\n",
              "      <td>92.401596</td>\n",
              "      <td>60170928</td>\n",
              "      <td>60.000000</td>\n",
              "      <td>190.889999</td>\n",
              "      <td>...</td>\n",
              "      <td>125.255911</td>\n",
              "      <td>4.526144</td>\n",
              "      <td>4.830359</td>\n",
              "      <td>5.964565</td>\n",
              "      <td>13.897988</td>\n",
              "      <td>2.631744</td>\n",
              "      <td>39.370081</td>\n",
              "      <td>4.799831</td>\n",
              "      <td>0.009059</td>\n",
              "      <td>0.063652</td>\n",
              "    </tr>\n",
              "  </tbody>\n",
              "</table>\n",
              "<p>10 rows × 21 columns</p>\n",
              "</div>\n",
              "      <button class=\"colab-df-convert\" onclick=\"convertToInteractive('df-4f7526bf-1123-4cad-9b36-ccca81c762c7')\"\n",
              "              title=\"Convert this dataframe to an interactive table.\"\n",
              "              style=\"display:none;\">\n",
              "        \n",
              "  <svg xmlns=\"http://www.w3.org/2000/svg\" height=\"24px\"viewBox=\"0 0 24 24\"\n",
              "       width=\"24px\">\n",
              "    <path d=\"M0 0h24v24H0V0z\" fill=\"none\"/>\n",
              "    <path d=\"M18.56 5.44l.94 2.06.94-2.06 2.06-.94-2.06-.94-.94-2.06-.94 2.06-2.06.94zm-11 1L8.5 8.5l.94-2.06 2.06-.94-2.06-.94L8.5 2.5l-.94 2.06-2.06.94zm10 10l.94 2.06.94-2.06 2.06-.94-2.06-.94-.94-2.06-.94 2.06-2.06.94z\"/><path d=\"M17.41 7.96l-1.37-1.37c-.4-.4-.92-.59-1.43-.59-.52 0-1.04.2-1.43.59L10.3 9.45l-7.72 7.72c-.78.78-.78 2.05 0 2.83L4 21.41c.39.39.9.59 1.41.59.51 0 1.02-.2 1.41-.59l7.78-7.78 2.81-2.81c.8-.78.8-2.07 0-2.86zM5.41 20L4 18.59l7.72-7.72 1.47 1.35L5.41 20z\"/>\n",
              "  </svg>\n",
              "      </button>\n",
              "      \n",
              "  <style>\n",
              "    .colab-df-container {\n",
              "      display:flex;\n",
              "      flex-wrap:wrap;\n",
              "      gap: 12px;\n",
              "    }\n",
              "\n",
              "    .colab-df-convert {\n",
              "      background-color: #E8F0FE;\n",
              "      border: none;\n",
              "      border-radius: 50%;\n",
              "      cursor: pointer;\n",
              "      display: none;\n",
              "      fill: #1967D2;\n",
              "      height: 32px;\n",
              "      padding: 0 0 0 0;\n",
              "      width: 32px;\n",
              "    }\n",
              "\n",
              "    .colab-df-convert:hover {\n",
              "      background-color: #E2EBFA;\n",
              "      box-shadow: 0px 1px 2px rgba(60, 64, 67, 0.3), 0px 1px 3px 1px rgba(60, 64, 67, 0.15);\n",
              "      fill: #174EA6;\n",
              "    }\n",
              "\n",
              "    [theme=dark] .colab-df-convert {\n",
              "      background-color: #3B4455;\n",
              "      fill: #D2E3FC;\n",
              "    }\n",
              "\n",
              "    [theme=dark] .colab-df-convert:hover {\n",
              "      background-color: #434B5C;\n",
              "      box-shadow: 0px 1px 3px 1px rgba(0, 0, 0, 0.15);\n",
              "      filter: drop-shadow(0px 1px 2px rgba(0, 0, 0, 0.3));\n",
              "      fill: #FFFFFF;\n",
              "    }\n",
              "  </style>\n",
              "\n",
              "      <script>\n",
              "        const buttonEl =\n",
              "          document.querySelector('#df-4f7526bf-1123-4cad-9b36-ccca81c762c7 button.colab-df-convert');\n",
              "        buttonEl.style.display =\n",
              "          google.colab.kernel.accessAllowed ? 'block' : 'none';\n",
              "\n",
              "        async function convertToInteractive(key) {\n",
              "          const element = document.querySelector('#df-4f7526bf-1123-4cad-9b36-ccca81c762c7');\n",
              "          const dataTable =\n",
              "            await google.colab.kernel.invokeFunction('convertToInteractive',\n",
              "                                                     [key], {});\n",
              "          if (!dataTable) return;\n",
              "\n",
              "          const docLinkHtml = 'Like what you see? Visit the ' +\n",
              "            '<a target=\"_blank\" href=https://colab.research.google.com/notebooks/data_table.ipynb>data table notebook</a>'\n",
              "            + ' to learn more about interactive tables.';\n",
              "          element.innerHTML = '';\n",
              "          dataTable['output_type'] = 'display_data';\n",
              "          await google.colab.output.renderOutput(dataTable, element);\n",
              "          const docLink = document.createElement('div');\n",
              "          docLink.innerHTML = docLinkHtml;\n",
              "          element.appendChild(docLink);\n",
              "        }\n",
              "      </script>\n",
              "    </div>\n",
              "  </div>\n",
              "  "
            ]
          },
          "metadata": {},
          "execution_count": 82
        }
      ]
    },
    {
      "cell_type": "code",
      "source": [
        "# Corremos la regresión de la segunda etapa\n",
        "\n",
        "cig_s2 = mt.reg(c1995, 'lnpacks', ['lcigp_pred'], addcons=True,vce_type=\"robust\")\n",
        "print(cig_s2)"
      ],
      "metadata": {
        "colab": {
          "base_uri": "https://localhost:8080/"
        },
        "id": "LKUyrIx32VMJ",
        "outputId": "2fcfd30c-b9c0-4132-956e-c485138a4fe9"
      },
      "execution_count": 81,
      "outputs": [
        {
          "output_type": "stream",
          "name": "stdout",
          "text": [
            "=======================================================\n",
            "Dependent variable:\tlnpacks\n",
            "N:\t\t\t48\n",
            "R-squared:\t\t0.1525\n",
            "Estimation method:\tOLS\n",
            "VCE method:\t\tRobust\n",
            "=======================================================\n",
            "            coeff    se      t   p>t CI_low CI_high\n",
            "lcigp_pred -1.084 0.334 -3.247 0.002 -1.755  -0.412\n",
            "_cons       9.720 1.597  6.086 0.000  6.505  12.935\n",
            "=======================================================\n",
            "\n"
          ]
        }
      ]
    },
    {
      "cell_type": "code",
      "source": [
        "# Realizamos la estimaci\u0013on de MC2E usando 'ivreg()'\n",
        "from statsmodels.api import add_constant\n",
        "\n",
        "c1995 = add_constant(c1995,has_constant='add')\n",
        "\n",
        "c1995.head(10)\n",
        "\n",
        "cig_ivreg = IV2SLS(c1995.lnpacks, exog=c1995.const, endog=c1995.lnrprice, instruments=c1995.salestax).fit()\n",
        "print(cig_ivreg)"
      ],
      "metadata": {
        "id": "NKm4DmZM5f5s"
      },
      "execution_count": null,
      "outputs": []
    },
    {
      "cell_type": "code",
      "source": [
        "\n",
        "cig_ivreg2 = IV2SLS(c1995.lnpacks, exog=c1995.const, endog=c1995[['lnrprice','lnrincome']], instruments=c1995[['salestax','lnrincome']]).fit()\n",
        "print(cig_ivreg2)\n",
        "\n",
        "mt.reg(c1995, 'lnrprice', ['salestax','lnrincome'], addcons=True,vce_type=\"robust\")"
      ],
      "metadata": {
        "colab": {
          "base_uri": "https://localhost:8080/"
        },
        "id": "Tkv6hHaHMJYL",
        "outputId": "7123a6ba-557b-4088-8152-ce54d85bd598"
      },
      "execution_count": 85,
      "outputs": [
        {
          "output_type": "execute_result",
          "data": {
            "text/plain": [
              "=======================================================\n",
              "Dependent variable:\tlnrprice\n",
              "N:\t\t\t48\n",
              "R-squared:\t\t0.6389\n",
              "Estimation method:\tOLS\n",
              "VCE method:\t\tRobust\n",
              "=======================================================\n",
              "          coeff    se      t   p>t CI_low CI_high\n",
              "salestax  0.027 0.004  6.688 0.000  0.019   0.036\n",
              "lnrincome 0.389 0.065  5.953 0.000  0.258   0.521\n",
              "_cons     3.591 0.173 20.789 0.000  3.243   3.939\n",
              "======================================================="
            ]
          },
          "metadata": {},
          "execution_count": 85
        }
      ]
    },
    {
      "cell_type": "code",
      "source": [
        "cig_ivreg3 = IV2SLS(c1995.lnpacks, exog=c1995.const, endog=c1995[['lnrprice','lnrincome']], instruments=c1995[['salestax','lnrincome','cigtax']]).fit()\n",
        "print(cig_ivreg3)"
      ],
      "metadata": {
        "id": "Occ_FnkZPiBR"
      },
      "execution_count": null,
      "outputs": []
    },
    {
      "cell_type": "code",
      "source": [
        "mod_relevance = mt.reg(c1995, 'lnrprice', ['salestax','cigtax','lnrincome',], addcons=True,vce_type=\"robust\")\n",
        "print(mod_relevance)"
      ],
      "metadata": {
        "colab": {
          "base_uri": "https://localhost:8080/"
        },
        "id": "qsgznLXPQcRL",
        "outputId": "76a78f01-806f-4e05-c3a6-e5eab6737258"
      },
      "execution_count": 86,
      "outputs": [
        {
          "output_type": "stream",
          "name": "stdout",
          "text": [
            "=======================================================\n",
            "Dependent variable:\tlnrprice\n",
            "N:\t\t\t48\n",
            "R-squared:\t\t0.9403\n",
            "Estimation method:\tOLS\n",
            "VCE method:\t\tRobust\n",
            "=======================================================\n",
            "          coeff    se      t   p>t CI_low CI_high\n",
            "salestax  0.011 0.002  5.097 0.000  0.007   0.015\n",
            "cigtax    0.009 0.001 10.752 0.000  0.008   0.011\n",
            "lnrincome 0.108 0.040  2.732 0.009  0.028   0.188\n",
            "_cons     4.103 0.088 46.425 0.000  3.925   4.281\n",
            "=======================================================\n",
            "\n"
          ]
        }
      ]
    },
    {
      "cell_type": "code",
      "source": [
        "from scipy.stats import ttest_ind\n",
        "\n",
        "mod_relevance.Ftest(['salestax', 'cigtax'])"
      ],
      "metadata": {
        "colab": {
          "base_uri": "https://localhost:8080/"
        },
        "id": "6ibwD9nASXGa",
        "outputId": "dd1bc06d-a52a-499a-d08d-ef29f538acb9"
      },
      "execution_count": 87,
      "outputs": [
        {
          "output_type": "execute_result",
          "data": {
            "text/plain": [
              "(209.67626939646124, 1.1102230246251565e-16)"
            ]
          },
          "metadata": {},
          "execution_count": 87
        }
      ]
    },
    {
      "cell_type": "code",
      "source": [
        "#Test J y Hausman-Wu\n",
        "import statsmodels.formula.api as smf\n",
        "import linearmodels.iv.model as lm\n",
        "\n",
        "test_J = lm.IV2SLS(dependent=c1995[\"lnpacks\"], exog=c1995[\"const\"], endog=c1995[[\"lnrprice\",\"lnrincome\"]], instruments=c1995[[\"salestax\",\"cigtax\",\"lnrincome\"]]).fit(cov_type=\"homoskedastic\", debiased=True)\n",
        "print(test_J.sargan)\n",
        "\n",
        "# Test de Hausman-Wu\n",
        "# Estimamos el modelo en su primer etapa\n",
        "mod_relevance = smf.ols(\"lnrprice ~ salestax + cigtax + lnrincome\", data=c1995).fit()\n",
        "\n",
        "c1995['resid_mod_rel'] = mod_relevance.resid\n",
        "c1995.head(10)\n",
        "\n",
        "# Estimamos el modelo con los residuos\n",
        "\n",
        "mod_test_HW = mt.reg(c1995, 'lnpacks', ['lnrprice','resid_mod_rel','lnrincome'], addcons=True,vce_type=\"robust\")\n",
        "print(mod_test_HW)\n"
      ],
      "metadata": {
        "colab": {
          "base_uri": "https://localhost:8080/"
        },
        "id": "8DnT4sXKvoSx",
        "outputId": "02344b25-1cbb-4a08-c83d-d1c71f9eedc3"
      },
      "execution_count": 93,
      "outputs": [
        {
          "output_type": "stream",
          "name": "stdout",
          "text": [
            "=======================================================\n",
            "Dependent variable:\tlnpacks\n",
            "N:\t\t\t48\n",
            "R-squared:\t\t0.4697\n",
            "Estimation method:\tOLS\n",
            "VCE method:\t\tRobust\n",
            "=======================================================\n",
            "               coeff    se      t   p>t CI_low CI_high\n",
            "lnrprice      -1.277 0.228 -5.601 0.000 -1.737  -0.818\n",
            "resid_mod_rel -1.565 0.836 -1.872 0.068 -3.250   0.120\n",
            "lnrincome      0.280 0.247  1.134 0.263 -0.218   0.779\n",
            "_cons          9.895 0.866 11.432 0.000  8.151  11.639\n",
            "=======================================================\n",
            "\n"
          ]
        }
      ]
    }
  ]
}